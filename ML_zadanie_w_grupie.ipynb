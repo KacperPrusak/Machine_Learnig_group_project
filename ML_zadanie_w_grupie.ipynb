{
 "cells": [
  {
   "metadata": {},
   "cell_type": "markdown",
   "source": "Zadanie grupowe Kacper Prusak 80984 Kamil Kusiak (numer) Bartłomiej Miniach (Numer)",
   "id": "4fcb318fcdab44f2"
  },
  {
   "metadata": {},
   "cell_type": "markdown",
   "source": "wqaedasd",
   "id": "ef01b85df17094bd"
  }
 ],
 "metadata": {
  "kernelspec": {
   "display_name": "Python 3",
   "language": "python",
   "name": "python3"
  },
  "language_info": {
   "codemirror_mode": {
    "name": "ipython",
    "version": 2
   },
   "file_extension": ".py",
   "mimetype": "text/x-python",
   "name": "python",
   "nbconvert_exporter": "python",
   "pygments_lexer": "ipython2",
   "version": "2.7.6"
  }
 },
 "nbformat": 4,
 "nbformat_minor": 5
}
